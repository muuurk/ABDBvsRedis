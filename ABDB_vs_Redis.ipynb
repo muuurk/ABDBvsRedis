{
 "cells": [
  {
   "cell_type": "code",
   "execution_count": 5,
   "id": "48963d4a",
   "metadata": {},
   "outputs": [],
   "source": [
    "# Kis szoras\n",
    "pos_reads = [5,6,7]\n",
    "\n",
    "# Nagy szoras -> ABDB jobb kene, hogy legyen\n",
    "#pos_reads = [1,5,14]\n",
    "\n",
    "# local reads\n",
    "x=max(pos_reads)\n",
    "\n",
    "# remote reads\n",
    "def get_remote_reads(x):\n",
    "    return sum(pos_reads)-x\n",
    "\n",
    "def abdb(x):\n",
    "    return 0.6*x + 5.6*get_remote_reads(x)\n",
    "\n",
    "def redis(x):\n",
    "    return 0.3*x + 5.3*get_remote_reads(x)"
   ]
  },
  {
   "cell_type": "markdown",
   "id": "3bca0816",
   "metadata": {},
   "source": [
    "# Placement-beli különbségek"
   ]
  },
  {
   "cell_type": "markdown",
   "id": "891f1c1d",
   "metadata": {},
   "source": [
    "## Diszkrét eset"
   ]
  },
  {
   "cell_type": "code",
   "execution_count": 6,
   "id": "97f445ba",
   "metadata": {},
   "outputs": [
    {
     "data": {
      "text/plain": [
       "<AxesSubplot:xlabel='redis_x', ylabel='total_latency'>"
      ]
     },
     "execution_count": 6,
     "metadata": {},
     "output_type": "execute_result"
    },
    {
     "data": {
      "image/png": "[encoded data removed]",
      "text/plain": [
       "<Figure size 432x288 with 1 Axes>"
      ]
     },
     "metadata": {
      "needs_background": "light"
     },
     "output_type": "display_data"
    }
   ],
   "source": [
    "import pandas as pd\n",
    "import seaborn as sns\n",
    "\n",
    "best_abdb_x = max(pos_reads)\n",
    " \n",
    "# Create DataFrame\n",
    "df = pd.DataFrame({})\n",
    "\n",
    "for x in pos_reads:\n",
    "    df = df.append({'redis_x':x, 'total_latency':abdb(best_abdb_x), 'db':\"abdb\"}, ignore_index=True)\n",
    "    df = df.append({'redis_x':x, 'total_latency':redis(x), 'db':\"redis\"}, ignore_index=True)\n",
    "    \n",
    "    \n",
    "sns.lineplot(data=df, x=\"redis_x\", y=\"total_latency\", hue='db', style=\"db\", markers=True, dashes=True)"
   ]
  },
  {
   "cell_type": "markdown",
   "id": "3944dc29",
   "metadata": {},
   "source": [
    "## Folytonos eset"
   ]
  },
  {
   "cell_type": "code",
   "execution_count": 7,
   "id": "2679b986",
   "metadata": {},
   "outputs": [
    {
     "data": {
      "text/plain": [
       "<AxesSubplot:xlabel='time', ylabel='latency'>"
      ]
     },
     "execution_count": 7,
     "metadata": {},
     "output_type": "execute_result"
    },
    {
     "data": {
      "image/png": "[encoded data removed]",
      "text/plain": [
       "<Figure size 432x288 with 1 Axes>"
      ]
     },
     "metadata": {
      "needs_background": "light"
     },
     "output_type": "display_data"
    }
   ],
   "source": [
    "best_abdb_x = max(pos_reads)\n",
    "\n",
    "def abdb_cont(abdb_worst_x, t, K):\n",
    "    if t<K:\n",
    "        return 0.6*abdb_worst_x+5.6*get_remote_reads(abdb_worst_x)\n",
    "    else:\n",
    "        return 0.6*best_abdb_x+5.6*get_remote_reads(best_abdb_x)\n",
    "    \n",
    "def redis_cont(x, t, K):\n",
    "    return redis(x)\n",
    "    \n",
    "\n",
    "# Create DataFrame\n",
    "df = pd.DataFrame({})\n",
    "\n",
    "K = 20\n",
    "\n",
    "for t in range(60):\n",
    "    for x in pos_reads:\n",
    "        df = df.append({'time':t, 'latency':abdb_cont(x, t, K), 'db':\"abdb_{}\".format(x)}, ignore_index=True)\n",
    "\n",
    "for x in pos_reads:\n",
    "    for t in range(60):\n",
    "        df = df.append({'time':t, 'latency':redis_cont(x, t, K), 'db':\"redis_{}\".format(x)}, ignore_index=True)\n",
    "\n",
    "sns.lineplot(data=df, x=\"time\", y=\"latency\", hue='db', style=\"db\", markers=True, dashes=True)\n",
    "        "
   ]
  },
  {
   "cell_type": "code",
   "execution_count": 8,
   "id": "81b3ff67",
   "metadata": {
    "scrolled": false
   },
   "outputs": [
    {
     "data": {
      "application/vnd.plotly.v1+json": {
       "config": {
        "plotlyServerURL": "https://plot.ly"
       },
       "data": [
        {
         "hovertemplate": "options=abdb_5<br>time=%{x}<br>total_latency=%{y}<extra></extra>",
         "legendgroup": "abdb_5",
         "line": {
          "color": "#1F77B4",
          "dash": "solid"
         },
         "marker": {
          "symbol": "circle"
         },
         "mode": "lines",
         "name": "abdb_5",
         "orientation": "v",
         "showlegend": true,
         "type": "scatter",
         "x": [
          0,
          1,
          2,
          3,
          4,
          5,
          6,
          7,
          8,
          9,
          10,
          11,
          12,
          13,
          14,
          15,
          16,
          17,
          18,
          19,
          20,
          21,
          22,
          23,
          24,
          25,
          26,
          27,
          28,
          29,
          30,
          31,
          32,
          33,
          34,
          35,
          36,
          37,
          38,
          39,
          40,
          41,
          42,
          43,
          44,
          45,
          46,
          47,
          48,
          49,
          50,
          51,
          52,
          53,
          54,
          55,
          56,
          57,
          58,
          59
         ],
         "xaxis": "x",
         "y": [
          75.8,
          151.6,
          227.39999999999998,
          303.2,
          379,
          454.8,
          530.6,
          606.4,
          682.1999999999999,
          757.9999999999999,
          833.7999999999998,
          909.5999999999998,
          985.3999999999997,
          1061.1999999999998,
          1136.9999999999998,
          1212.7999999999997,
          1288.5999999999997,
          1364.3999999999996,
          1440.1999999999996,
          1515.9999999999995,
          1581.7999999999995,
          1647.5999999999995,
          1713.3999999999994,
          1779.1999999999994,
          1844.9999999999993,
          1910.7999999999993,
          1976.5999999999992,
          2042.3999999999992,
          2108.1999999999994,
          2173.9999999999995,
          2239.7999999999997,
          2305.6,
          2371.4,
          2437.2000000000003,
          2503.0000000000005,
          2568.8000000000006,
          2634.600000000001,
          2700.400000000001,
          2766.200000000001,
          2832.0000000000014,
          2897.8000000000015,
          2963.6000000000017,
          3029.400000000002,
          3095.200000000002,
          3161.0000000000023,
          3226.8000000000025,
          3292.6000000000026,
          3358.400000000003,
          3424.200000000003,
          3490.000000000003,
          3555.8000000000034,
          3621.6000000000035,
          3687.4000000000037,
          3753.200000000004,
          3819.000000000004,
          3884.8000000000043,
          3950.6000000000045,
          4016.4000000000046,
          4082.200000000005,
          4148.000000000005
         ],
         "yaxis": "y"
        },
        {
         "hovertemplate": "options=redis_5<br>time=%{x}<br>total_latency=%{y}<extra></extra>",
         "legendgroup": "redis_5",
         "line": {
          "color": "#FF7F0E",
          "dash": "solid"
         },
         "marker": {
          "symbol": "circle"
         },
         "mode": "lines",
         "name": "redis_5",
         "orientation": "v",
         "showlegend": true,
         "type": "scatter",
         "x": [
          0,
          1,
          2,
          3,
          4,
          5,
          6,
          7,
          8,
          9,
          10,
          11,
          12,
          13,
          14,
          15,
          16,
          17,
          18,
          19,
          20,
          21,
          22,
          23,
          24,
          25,
          26,
          27,
          28,
          29,
          30,
          31,
          32,
          33,
          34,
          35,
          36,
          37,
          38,
          39,
          40,
          41,
          42,
          43,
          44,
          45,
          46,
          47,
          48,
          49,
          50,
          51,
          52,
          53,
          54,
          55,
          56,
          57,
          58,
          59
         ],
         "xaxis": "x",
         "y": [
          70.39999999999999,
          140.79999999999998,
          211.2,
          281.59999999999997,
          351.99999999999994,
          422.3999999999999,
          492.7999999999999,
          563.1999999999999,
          633.5999999999999,
          703.9999999999999,
          774.3999999999999,
          844.7999999999998,
          915.1999999999998,
          985.5999999999998,
          1055.9999999999998,
          1126.3999999999999,
          1196.8,
          1267.2,
          1337.6000000000001,
          1408.0000000000002,
          1478.4000000000003,
          1548.8000000000004,
          1619.2000000000005,
          1689.6000000000006,
          1760.0000000000007,
          1830.4000000000008,
          1900.8000000000009,
          1971.200000000001,
          2041.600000000001,
          2112.000000000001,
          2182.400000000001,
          2252.800000000001,
          2323.200000000001,
          2393.6000000000013,
          2464.0000000000014,
          2534.4000000000015,
          2604.8000000000015,
          2675.2000000000016,
          2745.6000000000017,
          2816.000000000002,
          2886.400000000002,
          2956.800000000002,
          3027.200000000002,
          3097.600000000002,
          3168.0000000000023,
          3238.4000000000024,
          3308.8000000000025,
          3379.2000000000025,
          3449.6000000000026,
          3520.0000000000027,
          3590.400000000003,
          3660.800000000003,
          3731.200000000003,
          3801.600000000003,
          3872.000000000003,
          3942.4000000000033,
          4012.8000000000034,
          4083.2000000000035,
          4153.600000000003,
          4224.000000000003
         ],
         "yaxis": "y"
        },
        {
         "hovertemplate": "options=abdb_6<br>time=%{x}<br>total_latency=%{y}<extra></extra>",
         "legendgroup": "abdb_6",
         "line": {
          "color": "#2CA02C",
          "dash": "solid"
         },
         "marker": {
          "symbol": "circle"
         },
         "mode": "lines",
         "name": "abdb_6",
         "orientation": "v",
         "showlegend": true,
         "type": "scatter",
         "x": [
          0,
          1,
          2,
          3,
          4,
          5,
          6,
          7,
          8,
          9,
          10,
          11,
          12,
          13,
          14,
          15,
          16,
          17,
          18,
          19,
          20,
          21,
          22,
          23,
          24,
          25,
          26,
          27,
          28,
          29,
          30,
          31,
          32,
          33,
          34,
          35,
          36,
          37,
          38,
          39,
          40,
          41,
          42,
          43,
          44,
          45,
          46,
          47,
          48,
          49,
          50,
          51,
          52,
          53,
          54,
          55,
          56,
          57,
          58,
          59
         ],
         "xaxis": "x",
         "y": [
          70.79999999999998,
          141.59999999999997,
          212.39999999999995,
          283.19999999999993,
          353.9999999999999,
          424.79999999999984,
          495.5999999999998,
          566.3999999999997,
          637.1999999999997,
          707.9999999999997,
          778.7999999999996,
          849.5999999999996,
          920.3999999999995,
          991.1999999999995,
          1061.9999999999995,
          1132.7999999999995,
          1203.5999999999995,
          1274.3999999999994,
          1345.1999999999994,
          1415.9999999999993,
          1481.7999999999993,
          1547.5999999999992,
          1613.3999999999992,
          1679.1999999999991,
          1744.999999999999,
          1810.799999999999,
          1876.599999999999,
          1942.399999999999,
          2008.199999999999,
          2073.999999999999,
          2139.7999999999993,
          2205.5999999999995,
          2271.3999999999996,
          2337.2,
          2403,
          2468.8,
          2534.6000000000004,
          2600.4000000000005,
          2666.2000000000007,
          2732.000000000001,
          2797.800000000001,
          2863.6000000000013,
          2929.4000000000015,
          2995.2000000000016,
          3061.000000000002,
          3126.800000000002,
          3192.600000000002,
          3258.4000000000024,
          3324.2000000000025,
          3390.0000000000027,
          3455.800000000003,
          3521.600000000003,
          3587.4000000000033,
          3653.2000000000035,
          3719.0000000000036,
          3784.800000000004,
          3850.600000000004,
          3916.400000000004,
          3982.2000000000044,
          4048.0000000000045
         ],
         "yaxis": "y"
        },
        {
         "hovertemplate": "options=redis_6<br>time=%{x}<br>total_latency=%{y}<extra></extra>",
         "legendgroup": "redis_6",
         "line": {
          "color": "#D62728",
          "dash": "solid"
         },
         "marker": {
          "symbol": "circle"
         },
         "mode": "lines",
         "name": "redis_6",
         "orientation": "v",
         "showlegend": true,
         "type": "scatter",
         "x": [
          0,
          1,
          2,
          3,
          4,
          5,
          6,
          7,
          8,
          9,
          10,
          11,
          12,
          13,
          14,
          15,
          16,
          17,
          18,
          19,
          20,
          21,
          22,
          23,
          24,
          25,
          26,
          27,
          28,
          29,
          30,
          31,
          32,
          33,
          34,
          35,
          36,
          37,
          38,
          39,
          40,
          41,
          42,
          43,
          44,
          45,
          46,
          47,
          48,
          49,
          50,
          51,
          52,
          53,
          54,
          55,
          56,
          57,
          58,
          59
         ],
         "xaxis": "x",
         "y": [
          65.39999999999999,
          130.79999999999998,
          196.2,
          261.59999999999997,
          326.99999999999994,
          392.3999999999999,
          457.7999999999999,
          523.1999999999999,
          588.5999999999999,
          653.9999999999999,
          719.3999999999999,
          784.7999999999998,
          850.1999999999998,
          915.5999999999998,
          980.9999999999998,
          1046.3999999999999,
          1111.8,
          1177.2,
          1242.6000000000001,
          1308.0000000000002,
          1373.4000000000003,
          1438.8000000000004,
          1504.2000000000005,
          1569.6000000000006,
          1635.0000000000007,
          1700.4000000000008,
          1765.8000000000009,
          1831.200000000001,
          1896.600000000001,
          1962.0000000000011,
          2027.4000000000012,
          2092.800000000001,
          2158.200000000001,
          2223.6000000000013,
          2289.0000000000014,
          2354.4000000000015,
          2419.8000000000015,
          2485.2000000000016,
          2550.6000000000017,
          2616.000000000002,
          2681.400000000002,
          2746.800000000002,
          2812.200000000002,
          2877.600000000002,
          2943.0000000000023,
          3008.4000000000024,
          3073.8000000000025,
          3139.2000000000025,
          3204.6000000000026,
          3270.0000000000027,
          3335.400000000003,
          3400.800000000003,
          3466.200000000003,
          3531.600000000003,
          3597.000000000003,
          3662.4000000000033,
          3727.8000000000034,
          3793.2000000000035,
          3858.6000000000035,
          3924.0000000000036
         ],
         "yaxis": "y"
        },
        {
         "hovertemplate": "options=abdb_7<br>time=%{x}<br>total_latency=%{y}<extra></extra>",
         "legendgroup": "abdb_7",
         "line": {
          "color": "#9467BD",
          "dash": "solid"
         },
         "marker": {
          "symbol": "circle"
         },
         "mode": "lines",
         "name": "abdb_7",
         "orientation": "v",
         "showlegend": true,
         "type": "scatter",
         "x": [
          0,
          1,
          2,
          3,
          4,
          5,
          6,
          7,
          8,
          9,
          10,
          11,
          12,
          13,
          14,
          15,
          16,
          17,
          18,
          19,
          20,
          21,
          22,
          23,
          24,
          25,
          26,
          27,
          28,
          29,
          30,
          31,
          32,
          33,
          34,
          35,
          36,
          37,
          38,
          39,
          40,
          41,
          42,
          43,
          44,
          45,
          46,
          47,
          48,
          49,
          50,
          51,
          52,
          53,
          54,
          55,
          56,
          57,
          58,
          59
         ],
         "xaxis": "x",
         "y": [
          65.8,
          131.6,
          197.39999999999998,
          263.2,
          329,
          394.8,
          460.6,
          526.4,
          592.1999999999999,
          657.9999999999999,
          723.7999999999998,
          789.5999999999998,
          855.3999999999997,
          921.1999999999997,
          986.9999999999997,
          1052.7999999999997,
          1118.5999999999997,
          1184.3999999999996,
          1250.1999999999996,
          1315.9999999999995,
          1381.7999999999995,
          1447.5999999999995,
          1513.3999999999994,
          1579.1999999999994,
          1644.9999999999993,
          1710.7999999999993,
          1776.5999999999992,
          1842.3999999999992,
          1908.1999999999991,
          1973.999999999999,
          2039.799999999999,
          2105.599999999999,
          2171.399999999999,
          2237.1999999999994,
          2302.9999999999995,
          2368.7999999999997,
          2434.6,
          2500.4,
          2566.2000000000003,
          2632.0000000000005,
          2697.8000000000006,
          2763.600000000001,
          2829.400000000001,
          2895.200000000001,
          2961.0000000000014,
          3026.8000000000015,
          3092.6000000000017,
          3158.400000000002,
          3224.200000000002,
          3290.0000000000023,
          3355.8000000000025,
          3421.6000000000026,
          3487.400000000003,
          3553.200000000003,
          3619.000000000003,
          3684.8000000000034,
          3750.6000000000035,
          3816.4000000000037,
          3882.200000000004,
          3948.000000000004
         ],
         "yaxis": "y"
        },
        {
         "hovertemplate": "options=redis_7<br>time=%{x}<br>total_latency=%{y}<extra></extra>",
         "legendgroup": "redis_7",
         "line": {
          "color": "#8C564B",
          "dash": "solid"
         },
         "marker": {
          "symbol": "circle"
         },
         "mode": "lines",
         "name": "redis_7",
         "orientation": "v",
         "showlegend": true,
         "type": "scatter",
         "x": [
          0,
          1,
          2,
          3,
          4,
          5,
          6,
          7,
          8,
          9,
          10,
          11,
          12,
          13,
          14,
          15,
          16,
          17,
          18,
          19,
          20,
          21,
          22,
          23,
          24,
          25,
          26,
          27,
          28,
          29,
          30,
          31,
          32,
          33,
          34,
          35,
          36,
          37,
          38,
          39,
          40,
          41,
          42,
          43,
          44,
          45,
          46,
          47,
          48,
          49,
          50,
          51,
          52,
          53,
          54,
          55,
          56,
          57,
          58,
          59
         ],
         "xaxis": "x",
         "y": [
          60.4,
          120.8,
          181.2,
          241.6,
          302,
          362.4,
          422.79999999999995,
          483.19999999999993,
          543.5999999999999,
          603.9999999999999,
          664.3999999999999,
          724.7999999999998,
          785.1999999999998,
          845.5999999999998,
          905.9999999999998,
          966.3999999999997,
          1026.7999999999997,
          1087.1999999999998,
          1147.6,
          1208,
          1268.4,
          1328.8000000000002,
          1389.2000000000003,
          1449.6000000000004,
          1510.0000000000005,
          1570.4000000000005,
          1630.8000000000006,
          1691.2000000000007,
          1751.6000000000008,
          1812.000000000001,
          1872.400000000001,
          1932.800000000001,
          1993.2000000000012,
          2053.6000000000013,
          2114.0000000000014,
          2174.4000000000015,
          2234.8000000000015,
          2295.2000000000016,
          2355.6000000000017,
          2416.000000000002,
          2476.400000000002,
          2536.800000000002,
          2597.200000000002,
          2657.600000000002,
          2718.0000000000023,
          2778.4000000000024,
          2838.8000000000025,
          2899.2000000000025,
          2959.6000000000026,
          3020.0000000000027,
          3080.400000000003,
          3140.800000000003,
          3201.200000000003,
          3261.600000000003,
          3322.000000000003,
          3382.4000000000033,
          3442.8000000000034,
          3503.2000000000035,
          3563.6000000000035,
          3624.0000000000036
         ],
         "yaxis": "y"
        }
       ],
       "layout": {
        "legend": {
         "title": {
          "text": "options"
         },
         "tracegroupgap": 0
        },
        "margin": {
         "t": 60
        },
        "template": {
         "data": {
          "bar": [
           {
            "error_x": {
             "color": "rgb(36,36,36)"
            },
            "error_y": {
             "color": "rgb(36,36,36)"
            },
            "marker": {
             "line": {
              "color": "white",
              "width": 0.5
             },
             "pattern": {
              "fillmode": "overlay",
              "size": 10,
              "solidity": 0.2
             }
            },
            "type": "bar"
           }
          ],
          "barpolar": [
           {
            "marker": {
             "line": {
              "color": "white",
              "width": 0.5
             },
             "pattern": {
              "fillmode": "overlay",
              "size": 10,
              "solidity": 0.2
             }
            },
            "type": "barpolar"
           }
          ],
          "carpet": [
           {
            "aaxis": {
             "endlinecolor": "rgb(36,36,36)",
             "gridcolor": "white",
             "linecolor": "white",
             "minorgridcolor": "white",
             "startlinecolor": "rgb(36,36,36)"
            },
            "baxis": {
             "endlinecolor": "rgb(36,36,36)",
             "gridcolor": "white",
             "linecolor": "white",
             "minorgridcolor": "white",
             "startlinecolor": "rgb(36,36,36)"
            },
            "type": "carpet"
           }
          ],
          "choropleth": [
           {
            "colorbar": {
             "outlinewidth": 1,
             "tickcolor": "rgb(36,36,36)",
             "ticks": "outside"
            },
            "type": "choropleth"
           }
          ],
          "contour": [
           {
            "colorbar": {
             "outlinewidth": 1,
             "tickcolor": "rgb(36,36,36)",
             "ticks": "outside"
            },
            "colorscale": [
             [
              0,
              "#440154"
             ],
             [
              0.1111111111111111,
              "#482878"
             ],
             [
              0.2222222222222222,
              "#3e4989"
             ],
             [
              0.3333333333333333,
              "#31688e"
             ],
             [
              0.4444444444444444,
              "#26828e"
             ],
             [
              0.5555555555555556,
              "#1f9e89"
             ],
             [
              0.6666666666666666,
              "#35b779"
             ],
             [
              0.7777777777777778,
              "#6ece58"
             ],
             [
              0.8888888888888888,
              "#b5de2b"
             ],
             [
              1,
              "#fde725"
             ]
            ],
            "type": "contour"
           }
          ],
          "contourcarpet": [
           {
            "colorbar": {
             "outlinewidth": 1,
             "tickcolor": "rgb(36,36,36)",
             "ticks": "outside"
            },
            "type": "contourcarpet"
           }
          ],
          "heatmap": [
           {
            "colorbar": {
             "outlinewidth": 1,
             "tickcolor": "rgb(36,36,36)",
             "ticks": "outside"
            },
            "colorscale": [
             [
              0,
              "#440154"
             ],
             [
              0.1111111111111111,
              "#482878"
             ],
             [
              0.2222222222222222,
              "#3e4989"
             ],
             [
              0.3333333333333333,
              "#31688e"
             ],
             [
              0.4444444444444444,
              "#26828e"
             ],
             [
              0.5555555555555556,
              "#1f9e89"
             ],
             [
              0.6666666666666666,
              "#35b779"
             ],
             [
              0.7777777777777778,
              "#6ece58"
             ],
             [
              0.8888888888888888,
              "#b5de2b"
             ],
             [
              1,
              "#fde725"
             ]
            ],
            "type": "heatmap"
           }
          ],
          "heatmapgl": [
           {
            "colorbar": {
             "outlinewidth": 1,
             "tickcolor": "rgb(36,36,36)",
             "ticks": "outside"
            },
            "colorscale": [
             [
              0,
              "#440154"
             ],
             [
              0.1111111111111111,
              "#482878"
             ],
             [
              0.2222222222222222,
              "#3e4989"
             ],
             [
              0.3333333333333333,
              "#31688e"
             ],
             [
              0.4444444444444444,
              "#26828e"
             ],
             [
              0.5555555555555556,
              "#1f9e89"
             ],
             [
              0.6666666666666666,
              "#35b779"
             ],
             [
              0.7777777777777778,
              "#6ece58"
             ],
             [
              0.8888888888888888,
              "#b5de2b"
             ],
             [
              1,
              "#fde725"
             ]
            ],
            "type": "heatmapgl"
           }
          ],
          "histogram": [
           {
            "marker": {
             "line": {
              "color": "white",
              "width": 0.6
             }
            },
            "type": "histogram"
           }
          ],
          "histogram2d": [
           {
            "colorbar": {
             "outlinewidth": 1,
             "tickcolor": "rgb(36,36,36)",
             "ticks": "outside"
            },
            "colorscale": [
             [
              0,
              "#440154"
             ],
             [
              0.1111111111111111,
              "#482878"
             ],
             [
              0.2222222222222222,
              "#3e4989"
             ],
             [
              0.3333333333333333,
              "#31688e"
             ],
             [
              0.4444444444444444,
              "#26828e"
             ],
             [
              0.5555555555555556,
              "#1f9e89"
             ],
             [
              0.6666666666666666,
              "#35b779"
             ],
             [
              0.7777777777777778,
              "#6ece58"
             ],
             [
              0.8888888888888888,
              "#b5de2b"
             ],
             [
              1,
              "#fde725"
             ]
            ],
            "type": "histogram2d"
           }
          ],
          "histogram2dcontour": [
           {
            "colorbar": {
             "outlinewidth": 1,
             "tickcolor": "rgb(36,36,36)",
             "ticks": "outside"
            },
            "colorscale": [
             [
              0,
              "#440154"
             ],
             [
              0.1111111111111111,
              "#482878"
             ],
             [
              0.2222222222222222,
              "#3e4989"
             ],
             [
              0.3333333333333333,
              "#31688e"
             ],
             [
              0.4444444444444444,
              "#26828e"
             ],
             [
              0.5555555555555556,
              "#1f9e89"
             ],
             [
              0.6666666666666666,
              "#35b779"
             ],
             [
              0.7777777777777778,
              "#6ece58"
             ],
             [
              0.8888888888888888,
              "#b5de2b"
             ],
             [
              1,
              "#fde725"
             ]
            ],
            "type": "histogram2dcontour"
           }
          ],
          "mesh3d": [
           {
            "colorbar": {
             "outlinewidth": 1,
             "tickcolor": "rgb(36,36,36)",
             "ticks": "outside"
            },
            "type": "mesh3d"
           }
          ],
          "parcoords": [
           {
            "line": {
             "colorbar": {
              "outlinewidth": 1,
              "tickcolor": "rgb(36,36,36)",
              "ticks": "outside"
             }
            },
            "type": "parcoords"
           }
          ],
          "pie": [
           {
            "automargin": true,
            "type": "pie"
           }
          ],
          "scatter": [
           {
            "marker": {
             "colorbar": {
              "outlinewidth": 1,
              "tickcolor": "rgb(36,36,36)",
              "ticks": "outside"
             }
            },
            "type": "scatter"
           }
          ],
          "scatter3d": [
           {
            "line": {
             "colorbar": {
              "outlinewidth": 1,
              "tickcolor": "rgb(36,36,36)",
              "ticks": "outside"
             }
            },
            "marker": {
             "colorbar": {
              "outlinewidth": 1,
              "tickcolor": "rgb(36,36,36)",
              "ticks": "outside"
             }
            },
            "type": "scatter3d"
           }
          ],
          "scattercarpet": [
           {
            "marker": {
             "colorbar": {
              "outlinewidth": 1,
              "tickcolor": "rgb(36,36,36)",
              "ticks": "outside"
             }
            },
            "type": "scattercarpet"
           }
          ],
          "scattergeo": [
           {
            "marker": {
             "colorbar": {
              "outlinewidth": 1,
              "tickcolor": "rgb(36,36,36)",
              "ticks": "outside"
             }
            },
            "type": "scattergeo"
           }
          ],
          "scattergl": [
           {
            "marker": {
             "colorbar": {
              "outlinewidth": 1,
              "tickcolor": "rgb(36,36,36)",
              "ticks": "outside"
             }
            },
            "type": "scattergl"
           }
          ],
          "scattermapbox": [
           {
            "marker": {
             "colorbar": {
              "outlinewidth": 1,
              "tickcolor": "rgb(36,36,36)",
              "ticks": "outside"
             }
            },
            "type": "scattermapbox"
           }
          ],
          "scatterpolar": [
           {
            "marker": {
             "colorbar": {
              "outlinewidth": 1,
              "tickcolor": "rgb(36,36,36)",
              "ticks": "outside"
             }
            },
            "type": "scatterpolar"
           }
          ],
          "scatterpolargl": [
           {
            "marker": {
             "colorbar": {
              "outlinewidth": 1,
              "tickcolor": "rgb(36,36,36)",
              "ticks": "outside"
             }
            },
            "type": "scatterpolargl"
           }
          ],
          "scatterternary": [
           {
            "marker": {
             "colorbar": {
              "outlinewidth": 1,
              "tickcolor": "rgb(36,36,36)",
              "ticks": "outside"
             }
            },
            "type": "scatterternary"
           }
          ],
          "surface": [
           {
            "colorbar": {
             "outlinewidth": 1,
             "tickcolor": "rgb(36,36,36)",
             "ticks": "outside"
            },
            "colorscale": [
             [
              0,
              "#440154"
             ],
             [
              0.1111111111111111,
              "#482878"
             ],
             [
              0.2222222222222222,
              "#3e4989"
             ],
             [
              0.3333333333333333,
              "#31688e"
             ],
             [
              0.4444444444444444,
              "#26828e"
             ],
             [
              0.5555555555555556,
              "#1f9e89"
             ],
             [
              0.6666666666666666,
              "#35b779"
             ],
             [
              0.7777777777777778,
              "#6ece58"
             ],
             [
              0.8888888888888888,
              "#b5de2b"
             ],
             [
              1,
              "#fde725"
             ]
            ],
            "type": "surface"
           }
          ],
          "table": [
           {
            "cells": {
             "fill": {
              "color": "rgb(237,237,237)"
             },
             "line": {
              "color": "white"
             }
            },
            "header": {
             "fill": {
              "color": "rgb(217,217,217)"
             },
             "line": {
              "color": "white"
             }
            },
            "type": "table"
           }
          ]
         },
         "layout": {
          "annotationdefaults": {
           "arrowhead": 0,
           "arrowwidth": 1
          },
          "autotypenumbers": "strict",
          "coloraxis": {
           "colorbar": {
            "outlinewidth": 1,
            "tickcolor": "rgb(36,36,36)",
            "ticks": "outside"
           }
          },
          "colorscale": {
           "diverging": [
            [
             0,
             "rgb(103,0,31)"
            ],
            [
             0.1,
             "rgb(178,24,43)"
            ],
            [
             0.2,
             "rgb(214,96,77)"
            ],
            [
             0.3,
             "rgb(244,165,130)"
            ],
            [
             0.4,
             "rgb(253,219,199)"
            ],
            [
             0.5,
             "rgb(247,247,247)"
            ],
            [
             0.6,
             "rgb(209,229,240)"
            ],
            [
             0.7,
             "rgb(146,197,222)"
            ],
            [
             0.8,
             "rgb(67,147,195)"
            ],
            [
             0.9,
             "rgb(33,102,172)"
            ],
            [
             1,
             "rgb(5,48,97)"
            ]
           ],
           "sequential": [
            [
             0,
             "#440154"
            ],
            [
             0.1111111111111111,
             "#482878"
            ],
            [
             0.2222222222222222,
             "#3e4989"
            ],
            [
             0.3333333333333333,
             "#31688e"
            ],
            [
             0.4444444444444444,
             "#26828e"
            ],
            [
             0.5555555555555556,
             "#1f9e89"
            ],
            [
             0.6666666666666666,
             "#35b779"
            ],
            [
             0.7777777777777778,
             "#6ece58"
            ],
            [
             0.8888888888888888,
             "#b5de2b"
            ],
            [
             1,
             "#fde725"
            ]
           ],
           "sequentialminus": [
            [
             0,
             "#440154"
            ],
            [
             0.1111111111111111,
             "#482878"
            ],
            [
             0.2222222222222222,
             "#3e4989"
            ],
            [
             0.3333333333333333,
             "#31688e"
            ],
            [
             0.4444444444444444,
             "#26828e"
            ],
            [
             0.5555555555555556,
             "#1f9e89"
            ],
            [
             0.6666666666666666,
             "#35b779"
            ],
            [
             0.7777777777777778,
             "#6ece58"
            ],
            [
             0.8888888888888888,
             "#b5de2b"
            ],
            [
             1,
             "#fde725"
            ]
           ]
          },
          "colorway": [
           "#1F77B4",
           "#FF7F0E",
           "#2CA02C",
           "#D62728",
           "#9467BD",
           "#8C564B",
           "#E377C2",
           "#7F7F7F",
           "#BCBD22",
           "#17BECF"
          ],
          "font": {
           "color": "rgb(36,36,36)"
          },
          "geo": {
           "bgcolor": "white",
           "lakecolor": "white",
           "landcolor": "white",
           "showlakes": true,
           "showland": true,
           "subunitcolor": "white"
          },
          "hoverlabel": {
           "align": "left"
          },
          "hovermode": "closest",
          "mapbox": {
           "style": "light"
          },
          "paper_bgcolor": "white",
          "plot_bgcolor": "white",
          "polar": {
           "angularaxis": {
            "gridcolor": "rgb(232,232,232)",
            "linecolor": "rgb(36,36,36)",
            "showgrid": false,
            "showline": true,
            "ticks": "outside"
           },
           "bgcolor": "white",
           "radialaxis": {
            "gridcolor": "rgb(232,232,232)",
            "linecolor": "rgb(36,36,36)",
            "showgrid": false,
            "showline": true,
            "ticks": "outside"
           }
          },
          "scene": {
           "xaxis": {
            "backgroundcolor": "white",
            "gridcolor": "rgb(232,232,232)",
            "gridwidth": 2,
            "linecolor": "rgb(36,36,36)",
            "showbackground": true,
            "showgrid": false,
            "showline": true,
            "ticks": "outside",
            "zeroline": false,
            "zerolinecolor": "rgb(36,36,36)"
           },
           "yaxis": {
            "backgroundcolor": "white",
            "gridcolor": "rgb(232,232,232)",
            "gridwidth": 2,
            "linecolor": "rgb(36,36,36)",
            "showbackground": true,
            "showgrid": false,
            "showline": true,
            "ticks": "outside",
            "zeroline": false,
            "zerolinecolor": "rgb(36,36,36)"
           },
           "zaxis": {
            "backgroundcolor": "white",
            "gridcolor": "rgb(232,232,232)",
            "gridwidth": 2,
            "linecolor": "rgb(36,36,36)",
            "showbackground": true,
            "showgrid": false,
            "showline": true,
            "ticks": "outside",
            "zeroline": false,
            "zerolinecolor": "rgb(36,36,36)"
           }
          },
          "shapedefaults": {
           "fillcolor": "black",
           "line": {
            "width": 0
           },
           "opacity": 0.3
          },
          "ternary": {
           "aaxis": {
            "gridcolor": "rgb(232,232,232)",
            "linecolor": "rgb(36,36,36)",
            "showgrid": false,
            "showline": true,
            "ticks": "outside"
           },
           "baxis": {
            "gridcolor": "rgb(232,232,232)",
            "linecolor": "rgb(36,36,36)",
            "showgrid": false,
            "showline": true,
            "ticks": "outside"
           },
           "bgcolor": "white",
           "caxis": {
            "gridcolor": "rgb(232,232,232)",
            "linecolor": "rgb(36,36,36)",
            "showgrid": false,
            "showline": true,
            "ticks": "outside"
           }
          },
          "title": {
           "x": 0.05
          },
          "xaxis": {
           "automargin": true,
           "gridcolor": "rgb(232,232,232)",
           "linecolor": "rgb(36,36,36)",
           "showgrid": false,
           "showline": true,
           "ticks": "outside",
           "title": {
            "standoff": 15
           },
           "zeroline": false,
           "zerolinecolor": "rgb(36,36,36)"
          },
          "yaxis": {
           "automargin": true,
           "gridcolor": "rgb(232,232,232)",
           "linecolor": "rgb(36,36,36)",
           "showgrid": false,
           "showline": true,
           "ticks": "outside",
           "title": {
            "standoff": 15
           },
           "zeroline": false,
           "zerolinecolor": "rgb(36,36,36)"
          }
         }
        },
        "xaxis": {
         "anchor": "y",
         "domain": [
          0,
          1
         ],
         "title": {
          "text": "time"
         }
        },
        "yaxis": {
         "anchor": "x",
         "domain": [
          0,
          1
         ],
         "title": {
          "text": "total_latency"
         }
        }
       }
      },
      "text/html": [
       "<div>                            <div id=\"c9805b7e-003b-45f7-9bbb-fd4834bb380b\" class=\"plotly-graph-div\" style=\"height:525px; width:100%;\"></div>            <script type=\"text/javascript\">                require([\"plotly\"], function(Plotly) {                    window.PLOTLYENV=window.PLOTLYENV || {};                                    if (document.getElementById(\"c9805b7e-003b-45f7-9bbb-fd4834bb380b\")) {                    Plotly.newPlot(                        \"c9805b7e-003b-45f7-9bbb-fd4834bb380b\",                        [{\"hovertemplate\":\"options=abdb_5<br>time=%{x}<br>total_latency=%{y}<extra></extra>\",\"legendgroup\":\"abdb_5\",\"line\":{\"color\":\"#1F77B4\",\"dash\":\"solid\"},\"marker\":{\"symbol\":\"circle\"},\"mode\":\"lines\",\"name\":\"abdb_5\",\"orientation\":\"v\",\"showlegend\":true,\"type\":\"scatter\",\"x\":[0,1,2,3,4,5,6,7,8,9,10,11,12,13,14,15,16,17,18,19,20,21,22,23,24,25,26,27,28,29,30,31,32,33,34,35,36,37,38,39,40,41,42,43,44,45,46,47,48,49,50,51,52,53,54,55,56,57,58,59],\"xaxis\":\"x\",\"y\":[75.8,151.6,227.39999999999998,303.2,379.0,454.8,530.6,606.4,682.1999999999999,757.9999999999999,833.7999999999998,909.5999999999998,985.3999999999997,1061.1999999999998,1136.9999999999998,1212.7999999999997,1288.5999999999997,1364.3999999999996,1440.1999999999996,1515.9999999999995,1581.7999999999995,1647.5999999999995,1713.3999999999994,1779.1999999999994,1844.9999999999993,1910.7999999999993,1976.5999999999992,2042.3999999999992,2108.1999999999994,2173.9999999999995,2239.7999999999997,2305.6,2371.4,2437.2000000000003,2503.0000000000005,2568.8000000000006,2634.600000000001,2700.400000000001,2766.200000000001,2832.0000000000014,2897.8000000000015,2963.6000000000017,3029.400000000002,3095.200000000002,3161.0000000000023,3226.8000000000025,3292.6000000000026,3358.400000000003,3424.200000000003,3490.000000000003,3555.8000000000034,3621.6000000000035,3687.4000000000037,3753.200000000004,3819.000000000004,3884.8000000000043,3950.6000000000045,4016.4000000000046,4082.200000000005,4148.000000000005],\"yaxis\":\"y\"},{\"hovertemplate\":\"options=redis_5<br>time=%{x}<br>total_latency=%{y}<extra></extra>\",\"legendgroup\":\"redis_5\",\"line\":{\"color\":\"#FF7F0E\",\"dash\":\"solid\"},\"marker\":{\"symbol\":\"circle\"},\"mode\":\"lines\",\"name\":\"redis_5\",\"orientation\":\"v\",\"showlegend\":true,\"type\":\"scatter\",\"x\":[0,1,2,3,4,5,6,7,8,9,10,11,12,13,14,15,16,17,18,19,20,21,22,23,24,25,26,27,28,29,30,31,32,33,34,35,36,37,38,39,40,41,42,43,44,45,46,47,48,49,50,51,52,53,54,55,56,57,58,59],\"xaxis\":\"x\",\"y\":[70.39999999999999,140.79999999999998,211.2,281.59999999999997,351.99999999999994,422.3999999999999,492.7999999999999,563.1999999999999,633.5999999999999,703.9999999999999,774.3999999999999,844.7999999999998,915.1999999999998,985.5999999999998,1055.9999999999998,1126.3999999999999,1196.8,1267.2,1337.6000000000001,1408.0000000000002,1478.4000000000003,1548.8000000000004,1619.2000000000005,1689.6000000000006,1760.0000000000007,1830.4000000000008,1900.8000000000009,1971.200000000001,2041.600000000001,2112.000000000001,2182.400000000001,2252.800000000001,2323.200000000001,2393.6000000000013,2464.0000000000014,2534.4000000000015,2604.8000000000015,2675.2000000000016,2745.6000000000017,2816.000000000002,2886.400000000002,2956.800000000002,3027.200000000002,3097.600000000002,3168.0000000000023,3238.4000000000024,3308.8000000000025,3379.2000000000025,3449.6000000000026,3520.0000000000027,3590.400000000003,3660.800000000003,3731.200000000003,3801.600000000003,3872.000000000003,3942.4000000000033,4012.8000000000034,4083.2000000000035,4153.600000000003,4224.000000000003],\"yaxis\":\"y\"},{\"hovertemplate\":\"options=abdb_6<br>time=%{x}<br>total_latency=%{y}<extra></extra>\",\"legendgroup\":\"abdb_6\",\"line\":{\"color\":\"#2CA02C\",\"dash\":\"solid\"},\"marker\":{\"symbol\":\"circle\"},\"mode\":\"lines\",\"name\":\"abdb_6\",\"orientation\":\"v\",\"showlegend\":true,\"type\":\"scatter\",\"x\":[0,1,2,3,4,5,6,7,8,9,10,11,12,13,14,15,16,17,18,19,20,21,22,23,24,25,26,27,28,29,30,31,32,33,34,35,36,37,38,39,40,41,42,43,44,45,46,47,48,49,50,51,52,53,54,55,56,57,58,59],\"xaxis\":\"x\",\"y\":[70.79999999999998,141.59999999999997,212.39999999999995,283.19999999999993,353.9999999999999,424.79999999999984,495.5999999999998,566.3999999999997,637.1999999999997,707.9999999999997,778.7999999999996,849.5999999999996,920.3999999999995,991.1999999999995,1061.9999999999995,1132.7999999999995,1203.5999999999995,1274.3999999999994,1345.1999999999994,1415.9999999999993,1481.7999999999993,1547.5999999999992,1613.3999999999992,1679.1999999999991,1744.999999999999,1810.799999999999,1876.599999999999,1942.399999999999,2008.199999999999,2073.999999999999,2139.7999999999993,2205.5999999999995,2271.3999999999996,2337.2,2403.0,2468.8,2534.6000000000004,2600.4000000000005,2666.2000000000007,2732.000000000001,2797.800000000001,2863.6000000000013,2929.4000000000015,2995.2000000000016,3061.000000000002,3126.800000000002,3192.600000000002,3258.4000000000024,3324.2000000000025,3390.0000000000027,3455.800000000003,3521.600000000003,3587.4000000000033,3653.2000000000035,3719.0000000000036,3784.800000000004,3850.600000000004,3916.400000000004,3982.2000000000044,4048.0000000000045],\"yaxis\":\"y\"},{\"hovertemplate\":\"options=redis_6<br>time=%{x}<br>total_latency=%{y}<extra></extra>\",\"legendgroup\":\"redis_6\",\"line\":{\"color\":\"#D62728\",\"dash\":\"solid\"},\"marker\":{\"symbol\":\"circle\"},\"mode\":\"lines\",\"name\":\"redis_6\",\"orientation\":\"v\",\"showlegend\":true,\"type\":\"scatter\",\"x\":[0,1,2,3,4,5,6,7,8,9,10,11,12,13,14,15,16,17,18,19,20,21,22,23,24,25,26,27,28,29,30,31,32,33,34,35,36,37,38,39,40,41,42,43,44,45,46,47,48,49,50,51,52,53,54,55,56,57,58,59],\"xaxis\":\"x\",\"y\":[65.39999999999999,130.79999999999998,196.2,261.59999999999997,326.99999999999994,392.3999999999999,457.7999999999999,523.1999999999999,588.5999999999999,653.9999999999999,719.3999999999999,784.7999999999998,850.1999999999998,915.5999999999998,980.9999999999998,1046.3999999999999,1111.8,1177.2,1242.6000000000001,1308.0000000000002,1373.4000000000003,1438.8000000000004,1504.2000000000005,1569.6000000000006,1635.0000000000007,1700.4000000000008,1765.8000000000009,1831.200000000001,1896.600000000001,1962.0000000000011,2027.4000000000012,2092.800000000001,2158.200000000001,2223.6000000000013,2289.0000000000014,2354.4000000000015,2419.8000000000015,2485.2000000000016,2550.6000000000017,2616.000000000002,2681.400000000002,2746.800000000002,2812.200000000002,2877.600000000002,2943.0000000000023,3008.4000000000024,3073.8000000000025,3139.2000000000025,3204.6000000000026,3270.0000000000027,3335.400000000003,3400.800000000003,3466.200000000003,3531.600000000003,3597.000000000003,3662.4000000000033,3727.8000000000034,3793.2000000000035,3858.6000000000035,3924.0000000000036],\"yaxis\":\"y\"},{\"hovertemplate\":\"options=abdb_7<br>time=%{x}<br>total_latency=%{y}<extra></extra>\",\"legendgroup\":\"abdb_7\",\"line\":{\"color\":\"#9467BD\",\"dash\":\"solid\"},\"marker\":{\"symbol\":\"circle\"},\"mode\":\"lines\",\"name\":\"abdb_7\",\"orientation\":\"v\",\"showlegend\":true,\"type\":\"scatter\",\"x\":[0,1,2,3,4,5,6,7,8,9,10,11,12,13,14,15,16,17,18,19,20,21,22,23,24,25,26,27,28,29,30,31,32,33,34,35,36,37,38,39,40,41,42,43,44,45,46,47,48,49,50,51,52,53,54,55,56,57,58,59],\"xaxis\":\"x\",\"y\":[65.8,131.6,197.39999999999998,263.2,329.0,394.8,460.6,526.4,592.1999999999999,657.9999999999999,723.7999999999998,789.5999999999998,855.3999999999997,921.1999999999997,986.9999999999997,1052.7999999999997,1118.5999999999997,1184.3999999999996,1250.1999999999996,1315.9999999999995,1381.7999999999995,1447.5999999999995,1513.3999999999994,1579.1999999999994,1644.9999999999993,1710.7999999999993,1776.5999999999992,1842.3999999999992,1908.1999999999991,1973.999999999999,2039.799999999999,2105.599999999999,2171.399999999999,2237.1999999999994,2302.9999999999995,2368.7999999999997,2434.6,2500.4,2566.2000000000003,2632.0000000000005,2697.8000000000006,2763.600000000001,2829.400000000001,2895.200000000001,2961.0000000000014,3026.8000000000015,3092.6000000000017,3158.400000000002,3224.200000000002,3290.0000000000023,3355.8000000000025,3421.6000000000026,3487.400000000003,3553.200000000003,3619.000000000003,3684.8000000000034,3750.6000000000035,3816.4000000000037,3882.200000000004,3948.000000000004],\"yaxis\":\"y\"},{\"hovertemplate\":\"options=redis_7<br>time=%{x}<br>total_latency=%{y}<extra></extra>\",\"legendgroup\":\"redis_7\",\"line\":{\"color\":\"#8C564B\",\"dash\":\"solid\"},\"marker\":{\"symbol\":\"circle\"},\"mode\":\"lines\",\"name\":\"redis_7\",\"orientation\":\"v\",\"showlegend\":true,\"type\":\"scatter\",\"x\":[0,1,2,3,4,5,6,7,8,9,10,11,12,13,14,15,16,17,18,19,20,21,22,23,24,25,26,27,28,29,30,31,32,33,34,35,36,37,38,39,40,41,42,43,44,45,46,47,48,49,50,51,52,53,54,55,56,57,58,59],\"xaxis\":\"x\",\"y\":[60.4,120.8,181.2,241.6,302.0,362.4,422.79999999999995,483.19999999999993,543.5999999999999,603.9999999999999,664.3999999999999,724.7999999999998,785.1999999999998,845.5999999999998,905.9999999999998,966.3999999999997,1026.7999999999997,1087.1999999999998,1147.6,1208.0,1268.4,1328.8000000000002,1389.2000000000003,1449.6000000000004,1510.0000000000005,1570.4000000000005,1630.8000000000006,1691.2000000000007,1751.6000000000008,1812.000000000001,1872.400000000001,1932.800000000001,1993.2000000000012,2053.6000000000013,2114.0000000000014,2174.4000000000015,2234.8000000000015,2295.2000000000016,2355.6000000000017,2416.000000000002,2476.400000000002,2536.800000000002,2597.200000000002,2657.600000000002,2718.0000000000023,2778.4000000000024,2838.8000000000025,2899.2000000000025,2959.6000000000026,3020.0000000000027,3080.400000000003,3140.800000000003,3201.200000000003,3261.600000000003,3322.000000000003,3382.4000000000033,3442.8000000000034,3503.2000000000035,3563.6000000000035,3624.0000000000036],\"yaxis\":\"y\"}],                        {\"legend\":{\"title\":{\"text\":\"options\"},\"tracegroupgap\":0},\"margin\":{\"t\":60},\"template\":{\"data\":{\"bar\":[{\"error_x\":{\"color\":\"rgb(36,36,36)\"},\"error_y\":{\"color\":\"rgb(36,36,36)\"},\"marker\":{\"line\":{\"color\":\"white\",\"width\":0.5},\"pattern\":{\"fillmode\":\"overlay\",\"size\":10,\"solidity\":0.2}},\"type\":\"bar\"}],\"barpolar\":[{\"marker\":{\"line\":{\"color\":\"white\",\"width\":0.5},\"pattern\":{\"fillmode\":\"overlay\",\"size\":10,\"solidity\":0.2}},\"type\":\"barpolar\"}],\"carpet\":[{\"aaxis\":{\"endlinecolor\":\"rgb(36,36,36)\",\"gridcolor\":\"white\",\"linecolor\":\"white\",\"minorgridcolor\":\"white\",\"startlinecolor\":\"rgb(36,36,36)\"},\"baxis\":{\"endlinecolor\":\"rgb(36,36,36)\",\"gridcolor\":\"white\",\"linecolor\":\"white\",\"minorgridcolor\":\"white\",\"startlinecolor\":\"rgb(36,36,36)\"},\"type\":\"carpet\"}],\"choropleth\":[{\"colorbar\":{\"outlinewidth\":1,\"tickcolor\":\"rgb(36,36,36)\",\"ticks\":\"outside\"},\"type\":\"choropleth\"}],\"contour\":[{\"colorbar\":{\"outlinewidth\":1,\"tickcolor\":\"rgb(36,36,36)\",\"ticks\":\"outside\"},\"colorscale\":[[0.0,\"#440154\"],[0.1111111111111111,\"#482878\"],[0.2222222222222222,\"#3e4989\"],[0.3333333333333333,\"#31688e\"],[0.4444444444444444,\"#26828e\"],[0.5555555555555556,\"#1f9e89\"],[0.6666666666666666,\"#35b779\"],[0.7777777777777778,\"#6ece58\"],[0.8888888888888888,\"#b5de2b\"],[1.0,\"#fde725\"]],\"type\":\"contour\"}],\"contourcarpet\":[{\"colorbar\":{\"outlinewidth\":1,\"tickcolor\":\"rgb(36,36,36)\",\"ticks\":\"outside\"},\"type\":\"contourcarpet\"}],\"heatmap\":[{\"colorbar\":{\"outlinewidth\":1,\"tickcolor\":\"rgb(36,36,36)\",\"ticks\":\"outside\"},\"colorscale\":[[0.0,\"#440154\"],[0.1111111111111111,\"#482878\"],[0.2222222222222222,\"#3e4989\"],[0.3333333333333333,\"#31688e\"],[0.4444444444444444,\"#26828e\"],[0.5555555555555556,\"#1f9e89\"],[0.6666666666666666,\"#35b779\"],[0.7777777777777778,\"#6ece58\"],[0.8888888888888888,\"#b5de2b\"],[1.0,\"#fde725\"]],\"type\":\"heatmap\"}],\"heatmapgl\":[{\"colorbar\":{\"outlinewidth\":1,\"tickcolor\":\"rgb(36,36,36)\",\"ticks\":\"outside\"},\"colorscale\":[[0.0,\"#440154\"],[0.1111111111111111,\"#482878\"],[0.2222222222222222,\"#3e4989\"],[0.3333333333333333,\"#31688e\"],[0.4444444444444444,\"#26828e\"],[0.5555555555555556,\"#1f9e89\"],[0.6666666666666666,\"#35b779\"],[0.7777777777777778,\"#6ece58\"],[0.8888888888888888,\"#b5de2b\"],[1.0,\"#fde725\"]],\"type\":\"heatmapgl\"}],\"histogram\":[{\"marker\":{\"line\":{\"color\":\"white\",\"width\":0.6}},\"type\":\"histogram\"}],\"histogram2d\":[{\"colorbar\":{\"outlinewidth\":1,\"tickcolor\":\"rgb(36,36,36)\",\"ticks\":\"outside\"},\"colorscale\":[[0.0,\"#440154\"],[0.1111111111111111,\"#482878\"],[0.2222222222222222,\"#3e4989\"],[0.3333333333333333,\"#31688e\"],[0.4444444444444444,\"#26828e\"],[0.5555555555555556,\"#1f9e89\"],[0.6666666666666666,\"#35b779\"],[0.7777777777777778,\"#6ece58\"],[0.8888888888888888,\"#b5de2b\"],[1.0,\"#fde725\"]],\"type\":\"histogram2d\"}],\"histogram2dcontour\":[{\"colorbar\":{\"outlinewidth\":1,\"tickcolor\":\"rgb(36,36,36)\",\"ticks\":\"outside\"},\"colorscale\":[[0.0,\"#440154\"],[0.1111111111111111,\"#482878\"],[0.2222222222222222,\"#3e4989\"],[0.3333333333333333,\"#31688e\"],[0.4444444444444444,\"#26828e\"],[0.5555555555555556,\"#1f9e89\"],[0.6666666666666666,\"#35b779\"],[0.7777777777777778,\"#6ece58\"],[0.8888888888888888,\"#b5de2b\"],[1.0,\"#fde725\"]],\"type\":\"histogram2dcontour\"}],\"mesh3d\":[{\"colorbar\":{\"outlinewidth\":1,\"tickcolor\":\"rgb(36,36,36)\",\"ticks\":\"outside\"},\"type\":\"mesh3d\"}],\"parcoords\":[{\"line\":{\"colorbar\":{\"outlinewidth\":1,\"tickcolor\":\"rgb(36,36,36)\",\"ticks\":\"outside\"}},\"type\":\"parcoords\"}],\"pie\":[{\"automargin\":true,\"type\":\"pie\"}],\"scatter\":[{\"marker\":{\"colorbar\":{\"outlinewidth\":1,\"tickcolor\":\"rgb(36,36,36)\",\"ticks\":\"outside\"}},\"type\":\"scatter\"}],\"scatter3d\":[{\"line\":{\"colorbar\":{\"outlinewidth\":1,\"tickcolor\":\"rgb(36,36,36)\",\"ticks\":\"outside\"}},\"marker\":{\"colorbar\":{\"outlinewidth\":1,\"tickcolor\":\"rgb(36,36,36)\",\"ticks\":\"outside\"}},\"type\":\"scatter3d\"}],\"scattercarpet\":[{\"marker\":{\"colorbar\":{\"outlinewidth\":1,\"tickcolor\":\"rgb(36,36,36)\",\"ticks\":\"outside\"}},\"type\":\"scattercarpet\"}],\"scattergeo\":[{\"marker\":{\"colorbar\":{\"outlinewidth\":1,\"tickcolor\":\"rgb(36,36,36)\",\"ticks\":\"outside\"}},\"type\":\"scattergeo\"}],\"scattergl\":[{\"marker\":{\"colorbar\":{\"outlinewidth\":1,\"tickcolor\":\"rgb(36,36,36)\",\"ticks\":\"outside\"}},\"type\":\"scattergl\"}],\"scattermapbox\":[{\"marker\":{\"colorbar\":{\"outlinewidth\":1,\"tickcolor\":\"rgb(36,36,36)\",\"ticks\":\"outside\"}},\"type\":\"scattermapbox\"}],\"scatterpolar\":[{\"marker\":{\"colorbar\":{\"outlinewidth\":1,\"tickcolor\":\"rgb(36,36,36)\",\"ticks\":\"outside\"}},\"type\":\"scatterpolar\"}],\"scatterpolargl\":[{\"marker\":{\"colorbar\":{\"outlinewidth\":1,\"tickcolor\":\"rgb(36,36,36)\",\"ticks\":\"outside\"}},\"type\":\"scatterpolargl\"}],\"scatterternary\":[{\"marker\":{\"colorbar\":{\"outlinewidth\":1,\"tickcolor\":\"rgb(36,36,36)\",\"ticks\":\"outside\"}},\"type\":\"scatterternary\"}],\"surface\":[{\"colorbar\":{\"outlinewidth\":1,\"tickcolor\":\"rgb(36,36,36)\",\"ticks\":\"outside\"},\"colorscale\":[[0.0,\"#440154\"],[0.1111111111111111,\"#482878\"],[0.2222222222222222,\"#3e4989\"],[0.3333333333333333,\"#31688e\"],[0.4444444444444444,\"#26828e\"],[0.5555555555555556,\"#1f9e89\"],[0.6666666666666666,\"#35b779\"],[0.7777777777777778,\"#6ece58\"],[0.8888888888888888,\"#b5de2b\"],[1.0,\"#fde725\"]],\"type\":\"surface\"}],\"table\":[{\"cells\":{\"fill\":{\"color\":\"rgb(237,237,237)\"},\"line\":{\"color\":\"white\"}},\"header\":{\"fill\":{\"color\":\"rgb(217,217,217)\"},\"line\":{\"color\":\"white\"}},\"type\":\"table\"}]},\"layout\":{\"annotationdefaults\":{\"arrowhead\":0,\"arrowwidth\":1},\"autotypenumbers\":\"strict\",\"coloraxis\":{\"colorbar\":{\"outlinewidth\":1,\"tickcolor\":\"rgb(36,36,36)\",\"ticks\":\"outside\"}},\"colorscale\":{\"diverging\":[[0.0,\"rgb(103,0,31)\"],[0.1,\"rgb(178,24,43)\"],[0.2,\"rgb(214,96,77)\"],[0.3,\"rgb(244,165,130)\"],[0.4,\"rgb(253,219,199)\"],[0.5,\"rgb(247,247,247)\"],[0.6,\"rgb(209,229,240)\"],[0.7,\"rgb(146,197,222)\"],[0.8,\"rgb(67,147,195)\"],[0.9,\"rgb(33,102,172)\"],[1.0,\"rgb(5,48,97)\"]],\"sequential\":[[0.0,\"#440154\"],[0.1111111111111111,\"#482878\"],[0.2222222222222222,\"#3e4989\"],[0.3333333333333333,\"#31688e\"],[0.4444444444444444,\"#26828e\"],[0.5555555555555556,\"#1f9e89\"],[0.6666666666666666,\"#35b779\"],[0.7777777777777778,\"#6ece58\"],[0.8888888888888888,\"#b5de2b\"],[1.0,\"#fde725\"]],\"sequentialminus\":[[0.0,\"#440154\"],[0.1111111111111111,\"#482878\"],[0.2222222222222222,\"#3e4989\"],[0.3333333333333333,\"#31688e\"],[0.4444444444444444,\"#26828e\"],[0.5555555555555556,\"#1f9e89\"],[0.6666666666666666,\"#35b779\"],[0.7777777777777778,\"#6ece58\"],[0.8888888888888888,\"#b5de2b\"],[1.0,\"#fde725\"]]},\"colorway\":[\"#1F77B4\",\"#FF7F0E\",\"#2CA02C\",\"#D62728\",\"#9467BD\",\"#8C564B\",\"#E377C2\",\"#7F7F7F\",\"#BCBD22\",\"#17BECF\"],\"font\":{\"color\":\"rgb(36,36,36)\"},\"geo\":{\"bgcolor\":\"white\",\"lakecolor\":\"white\",\"landcolor\":\"white\",\"showlakes\":true,\"showland\":true,\"subunitcolor\":\"white\"},\"hoverlabel\":{\"align\":\"left\"},\"hovermode\":\"closest\",\"mapbox\":{\"style\":\"light\"},\"paper_bgcolor\":\"white\",\"plot_bgcolor\":\"white\",\"polar\":{\"angularaxis\":{\"gridcolor\":\"rgb(232,232,232)\",\"linecolor\":\"rgb(36,36,36)\",\"showgrid\":false,\"showline\":true,\"ticks\":\"outside\"},\"bgcolor\":\"white\",\"radialaxis\":{\"gridcolor\":\"rgb(232,232,232)\",\"linecolor\":\"rgb(36,36,36)\",\"showgrid\":false,\"showline\":true,\"ticks\":\"outside\"}},\"scene\":{\"xaxis\":{\"backgroundcolor\":\"white\",\"gridcolor\":\"rgb(232,232,232)\",\"gridwidth\":2,\"linecolor\":\"rgb(36,36,36)\",\"showbackground\":true,\"showgrid\":false,\"showline\":true,\"ticks\":\"outside\",\"zeroline\":false,\"zerolinecolor\":\"rgb(36,36,36)\"},\"yaxis\":{\"backgroundcolor\":\"white\",\"gridcolor\":\"rgb(232,232,232)\",\"gridwidth\":2,\"linecolor\":\"rgb(36,36,36)\",\"showbackground\":true,\"showgrid\":false,\"showline\":true,\"ticks\":\"outside\",\"zeroline\":false,\"zerolinecolor\":\"rgb(36,36,36)\"},\"zaxis\":{\"backgroundcolor\":\"white\",\"gridcolor\":\"rgb(232,232,232)\",\"gridwidth\":2,\"linecolor\":\"rgb(36,36,36)\",\"showbackground\":true,\"showgrid\":false,\"showline\":true,\"ticks\":\"outside\",\"zeroline\":false,\"zerolinecolor\":\"rgb(36,36,36)\"}},\"shapedefaults\":{\"fillcolor\":\"black\",\"line\":{\"width\":0},\"opacity\":0.3},\"ternary\":{\"aaxis\":{\"gridcolor\":\"rgb(232,232,232)\",\"linecolor\":\"rgb(36,36,36)\",\"showgrid\":false,\"showline\":true,\"ticks\":\"outside\"},\"baxis\":{\"gridcolor\":\"rgb(232,232,232)\",\"linecolor\":\"rgb(36,36,36)\",\"showgrid\":false,\"showline\":true,\"ticks\":\"outside\"},\"bgcolor\":\"white\",\"caxis\":{\"gridcolor\":\"rgb(232,232,232)\",\"linecolor\":\"rgb(36,36,36)\",\"showgrid\":false,\"showline\":true,\"ticks\":\"outside\"}},\"title\":{\"x\":0.05},\"xaxis\":{\"automargin\":true,\"gridcolor\":\"rgb(232,232,232)\",\"linecolor\":\"rgb(36,36,36)\",\"showgrid\":false,\"showline\":true,\"ticks\":\"outside\",\"title\":{\"standoff\":15},\"zeroline\":false,\"zerolinecolor\":\"rgb(36,36,36)\"},\"yaxis\":{\"automargin\":true,\"gridcolor\":\"rgb(232,232,232)\",\"linecolor\":\"rgb(36,36,36)\",\"showgrid\":false,\"showline\":true,\"ticks\":\"outside\",\"title\":{\"standoff\":15},\"zeroline\":false,\"zerolinecolor\":\"rgb(36,36,36)\"}}},\"xaxis\":{\"anchor\":\"y\",\"domain\":[0.0,1.0],\"title\":{\"text\":\"time\"}},\"yaxis\":{\"anchor\":\"x\",\"domain\":[0.0,1.0],\"title\":{\"text\":\"total_latency\"}}},                        {\"responsive\": true}                    ).then(function(){\n",
       "                            \n",
       "var gd = document.getElementById('c9805b7e-003b-45f7-9bbb-fd4834bb380b');\n",
       "var x = new MutationObserver(function (mutations, observer) {{\n",
       "        var display = window.getComputedStyle(gd).display;\n",
       "        if (!display || display === 'none') {{\n",
       "            console.log([gd, 'removed!']);\n",
       "            Plotly.purge(gd);\n",
       "            observer.disconnect();\n",
       "        }}\n",
       "}});\n",
       "\n",
       "// Listen for the removal of the full notebook cells\n",
       "var notebookContainer = gd.closest('#notebook-container');\n",
       "if (notebookContainer) {{\n",
       "    x.observe(notebookContainer, {childList: true});\n",
       "}}\n",
       "\n",
       "// Listen for the clearing of the current output cell\n",
       "var outputEl = gd.closest('.output');\n",
       "if (outputEl) {{\n",
       "    x.observe(outputEl, {childList: true});\n",
       "}}\n",
       "\n",
       "                        })                };                });            </script>        </div>"
      ]
     },
     "metadata": {},
     "output_type": "display_data"
    },
    {
     "data": {
      "image/png": "[encoded data removed]",
      "text/plain": [
       "<Figure size 432x288 with 1 Axes>"
      ]
     },
     "metadata": {
      "needs_background": "light"
     },
     "output_type": "display_data"
    }
   ],
   "source": [
    "pd.options.plotting.backend = \"plotly\"\n",
    "\n",
    "df2 = pd.DataFrame({})\n",
    "df3 = pd.DataFrame({})\n",
    "total_abdb_latency = 0\n",
    "total_redis_latency = 0\n",
    "\n",
    "values = {}\n",
    "\n",
    "for x in pos_reads:\n",
    "    values[\"abdb_{}\".format(x)] = []\n",
    "    values[\"redis_{}\".format(x)] = []\n",
    "    for t in range(60):\n",
    "        total_abdb_latency += abdb_cont(x, t, K)\n",
    "        total_redis_latency += redis_cont(x, t, K)\n",
    "        \n",
    "        df2 = df2.append({'time':t, 'total_latency':total_abdb_latency, 'db':\"abdb_{}\".format(x)}, ignore_index=True)\n",
    "        values[\"abdb_{}\".format(x)].append(total_abdb_latency)\n",
    "        \n",
    "        df2 = df2.append({'time':t, 'total_latency':total_redis_latency, 'db':\"redis_{}\".format(x)}, ignore_index=True)\n",
    "        values[\"redis_{}\".format(x)].append(total_redis_latency)\n",
    "    \n",
    "    total_abdb_latency=0\n",
    "    total_redis_latency = 0\n",
    "\n",
    "sns.lineplot(data=df2, x=\"time\", y=\"total_latency\", hue='db', style=\"db\", markers=True, dashes=True)\n",
    "\n",
    "df3 = pd.DataFrame(values)\n",
    "#print(df3)\n",
    "\n",
    "fig = df3.plot(title=\"\", template=\"simple_white\",\n",
    "              labels=dict(index=\"time\", value=\"total_latency\", variable=\"options\"))\n",
    "#fig.update_yaxes(tickprefix=\"$\")\n",
    "fig.show()"
   ]
  },
  {
   "cell_type": "code",
   "execution_count": null,
   "id": "126f5cb7",
   "metadata": {},
   "outputs": [],
   "source": []
  },
  {
   "cell_type": "code",
   "execution_count": null,
   "id": "01bb4a3c",
   "metadata": {},
   "outputs": [],
   "source": []
  }
 ],
 "metadata": {
  "kernelspec": {
   "display_name": "Python 3 (ipykernel)",
   "language": "python",
   "name": "python3"
  },
  "language_info": {
   "codemirror_mode": {
    "name": "ipython",
    "version": 3
   },
   "file_extension": ".py",
   "mimetype": "text/x-python",
   "name": "python",
   "nbconvert_exporter": "python",
   "pygments_lexer": "ipython3",
   "version": "3.8.10"
  }
 },
 "nbformat": 4,
 "nbformat_minor": 5
}
